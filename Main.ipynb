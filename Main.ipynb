{
 "cells": [
  {
   "cell_type": "markdown",
   "metadata": {},
   "source": [
    "### все необходимые библиотеки"
   ]
  },
  {
   "cell_type": "code",
   "execution_count": 2,
   "metadata": {},
   "outputs": [],
   "source": [
    "import pandas as pd\n",
    "import numpy as np\n",
    "np.random.seed(42)\n",
    "\n",
    "import os\n",
    "import PIL\n",
    "\n",
    "import librosa\n",
    "import librosa.display\n",
    "\n",
    "import matplotlib.pyplot as plt\n",
    "plt.style.use(\"ggplot\")\n",
    "%matplotlib inline\n",
    "\n",
    "from sklearn.preprocessing import RobustScaler\n",
    "from sklearn.model_selection import train_test_split\n",
    "from sklearn.ensemble import RandomForestClassifier"
   ]
  },
  {
   "cell_type": "markdown",
   "metadata": {},
   "source": [
    "### вспомогательные функции"
   ]
  },
  {
   "cell_type": "code",
   "execution_count": 3,
   "metadata": {},
   "outputs": [],
   "source": [
    "IMAGE_TRAIN_PATH = \"./data/train/image\"\n",
    "VOICE_TRAIN_PATH = \"./data/train/voice\"\n",
    "IMAGE_TEST_PATH = \"./data/test/image/\"\n",
    "VOICE_TEST_PATH = \"./data/test/voice/\"\n",
    "\n",
    "def read_image(path):\n",
    "    return PIL.Image.open(path).convert('L')\n",
    "\n",
    "def load_wav(path):\n",
    "    return librosa.load(path, sr=8000)"
   ]
  },
  {
   "cell_type": "code",
   "execution_count": 4,
   "metadata": {},
   "outputs": [],
   "source": [
    "#выгрузка картинок в виде векторов\n",
    "def extract_image_features(image_folder):\n",
    "    image_vectors = []\n",
    "    indices = []\n",
    "    for image_name in os.listdir(image_folder):\n",
    "        index = os.path.splitext(image_name)[0]\n",
    "        indices.append(index)\n",
    "        image = read_image(os.path.join(image_folder, image_name))\n",
    "        image_vector = np.array(image).reshape(-1)\n",
    "        image_vectors.append(image_vector)\n",
    "    return pd.DataFrame({\n",
    "        'index': indices,\n",
    "        'image_vector': image_vectors,\n",
    "    })"
   ]
  },
  {
   "cell_type": "code",
   "execution_count": 5,
   "metadata": {},
   "outputs": [],
   "source": [
    "#выгрузка голосовых данных\n",
    "def extract_voice_features(voice_folder, numcep=15, hop_length=256):\n",
    "    voice_vectors = []\n",
    "    indices = []\n",
    "    durations = []\n",
    "    \n",
    "    for record_name in os.listdir(voice_folder):\n",
    "        index = os.path.splitext(record_name)[0]\n",
    "        indices.append(index)\n",
    "        signal, sr = load_wav(\n",
    "            os.path.join(voice_folder, record_name)\n",
    "        )\n",
    "        mfcc_features = librosa.feature.mfcc(\n",
    "            signal, sr=sr, n_mfcc=numcep, hop_length=hop_length\n",
    "        )\n",
    "        voice_vector = mfcc_features.mean(axis=1)\n",
    "        voice_vectors.append(voice_vector)\n",
    "        durations.append(signal.size / float(sr))\n",
    "    return pd.DataFrame({\n",
    "        'index': indices,\n",
    "        'voice_vector': voice_vectors,\n",
    "        'duration' : durations #добавим новый признак длина аудио\n",
    "    })"
   ]
  },
  {
   "cell_type": "markdown",
   "metadata": {},
   "source": [
    "## Собираем датасет"
   ]
  },
  {
   "cell_type": "code",
   "execution_count": 6,
   "metadata": {},
   "outputs": [
    {
     "data": {
      "text/html": [
       "<div>\n",
       "<style scoped>\n",
       "    .dataframe tbody tr th:only-of-type {\n",
       "        vertical-align: middle;\n",
       "    }\n",
       "\n",
       "    .dataframe tbody tr th {\n",
       "        vertical-align: top;\n",
       "    }\n",
       "\n",
       "    .dataframe thead th {\n",
       "        text-align: right;\n",
       "    }\n",
       "</style>\n",
       "<table border=\"1\" class=\"dataframe\">\n",
       "  <thead>\n",
       "    <tr style=\"text-align: right;\">\n",
       "      <th></th>\n",
       "      <th>image_vector</th>\n",
       "      <th>voice_vector</th>\n",
       "      <th>duration</th>\n",
       "      <th>target</th>\n",
       "    </tr>\n",
       "  </thead>\n",
       "  <tbody>\n",
       "    <tr>\n",
       "      <th>0</th>\n",
       "      <td>[0, 0, 0, 0, 0, 0, 0, 0, 0, 0, 0, 0, 0, 0, 0, ...</td>\n",
       "      <td>[-255.82959, 38.15204, 51.84722, 13.130906, 14...</td>\n",
       "      <td>0.217750</td>\n",
       "      <td>2</td>\n",
       "    </tr>\n",
       "    <tr>\n",
       "      <th>1</th>\n",
       "      <td>[0, 0, 0, 0, 0, 0, 0, 0, 0, 0, 0, 0, 0, 0, 0, ...</td>\n",
       "      <td>[-409.89935, 127.17834, -21.689606, -17.540297...</td>\n",
       "      <td>0.223750</td>\n",
       "      <td>4</td>\n",
       "    </tr>\n",
       "    <tr>\n",
       "      <th>2</th>\n",
       "      <td>[0, 0, 0, 0, 0, 0, 0, 0, 0, 0, 0, 0, 0, 0, 0, ...</td>\n",
       "      <td>[-431.00018, 39.874836, 21.09296, -8.168608, -...</td>\n",
       "      <td>0.484500</td>\n",
       "      <td>7</td>\n",
       "    </tr>\n",
       "    <tr>\n",
       "      <th>3</th>\n",
       "      <td>[0, 0, 0, 0, 0, 0, 0, 0, 0, 0, 0, 0, 0, 0, 0, ...</td>\n",
       "      <td>[-202.18109, 57.301323, 48.47514, -5.4865746, ...</td>\n",
       "      <td>0.263125</td>\n",
       "      <td>6</td>\n",
       "    </tr>\n",
       "    <tr>\n",
       "      <th>4</th>\n",
       "      <td>[0, 0, 0, 0, 0, 0, 0, 0, 0, 0, 0, 0, 0, 0, 0, ...</td>\n",
       "      <td>[-395.6473, 109.2142, -1.4051617, -15.394623, ...</td>\n",
       "      <td>0.282125</td>\n",
       "      <td>2</td>\n",
       "    </tr>\n",
       "  </tbody>\n",
       "</table>\n",
       "</div>"
      ],
      "text/plain": [
       "                                        image_vector  \\\n",
       "0  [0, 0, 0, 0, 0, 0, 0, 0, 0, 0, 0, 0, 0, 0, 0, ...   \n",
       "1  [0, 0, 0, 0, 0, 0, 0, 0, 0, 0, 0, 0, 0, 0, 0, ...   \n",
       "2  [0, 0, 0, 0, 0, 0, 0, 0, 0, 0, 0, 0, 0, 0, 0, ...   \n",
       "3  [0, 0, 0, 0, 0, 0, 0, 0, 0, 0, 0, 0, 0, 0, 0, ...   \n",
       "4  [0, 0, 0, 0, 0, 0, 0, 0, 0, 0, 0, 0, 0, 0, 0, ...   \n",
       "\n",
       "                                        voice_vector  duration  target  \n",
       "0  [-255.82959, 38.15204, 51.84722, 13.130906, 14...  0.217750       2  \n",
       "1  [-409.89935, 127.17834, -21.689606, -17.540297...  0.223750       4  \n",
       "2  [-431.00018, 39.874836, 21.09296, -8.168608, -...  0.484500       7  \n",
       "3  [-202.18109, 57.301323, 48.47514, -5.4865746, ...  0.263125       6  \n",
       "4  [-395.6473, 109.2142, -1.4051617, -15.394623, ...  0.282125       2  "
      ]
     },
     "execution_count": 6,
     "metadata": {},
     "output_type": "execute_result"
    }
   ],
   "source": [
    "df = extract_image_features(IMAGE_TRAIN_PATH).merge(\n",
    "                    extract_voice_features(VOICE_TRAIN_PATH), on='index')\n",
    "df['target'] = df['index'].apply(lambda x: int(x[:1]))\n",
    "df = df.drop('index', axis=1)\n",
    "df.head(5)"
   ]
  },
  {
   "cell_type": "markdown",
   "metadata": {},
   "source": [
    "## Новый признак: число абсолютно черных пикселей"
   ]
  },
  {
   "cell_type": "code",
   "execution_count": 7,
   "metadata": {},
   "outputs": [],
   "source": [
    "df['N_zero'] = df['image_vector'].apply(lambda x: (x<1.0).astype(int).sum() )"
   ]
  },
  {
   "cell_type": "code",
   "execution_count": 8,
   "metadata": {},
   "outputs": [],
   "source": [
    "#добавим нормализацию\n",
    "df['N_zero'] = RobustScaler().fit_transform(\n",
    "                        df.N_zero.values.reshape(-1,1)\n",
    "                                            )"
   ]
  },
  {
   "cell_type": "code",
   "execution_count": 9,
   "metadata": {
    "scrolled": true
   },
   "outputs": [
    {
     "data": {
      "image/png": "[encoded data removed]",
      "text/plain": [
       "<matplotlib.figure.Figure at 0x7f19b78f9710>"
      ]
     },
     "metadata": {
      "needs_background": "light"
     },
     "output_type": "display_data"
    }
   ],
   "source": [
    "plt.bar(df.groupby('target')['N_zero'].mean().index,\n",
    "        df.groupby('target')['N_zero'].mean().values\n",
    "       );\n",
    "#должно точно помочь отличать нули от единичек"
   ]
  },
  {
   "cell_type": "markdown",
   "metadata": {},
   "source": [
    "## Новый признак: длина аудиозаписи"
   ]
  },
  {
   "cell_type": "code",
   "execution_count": 10,
   "metadata": {},
   "outputs": [],
   "source": [
    "#еще нормализации\n",
    "df['duration'] = RobustScaler().fit_transform(\n",
    "                        df.duration.values.reshape(-1,1)\n",
    "                                            )"
   ]
  },
  {
   "cell_type": "code",
   "execution_count": 11,
   "metadata": {},
   "outputs": [
    {
     "data": {
      "image/png": "[encoded data removed]",
      "text/plain": [
       "<matplotlib.figure.Figure at 0x7f19b513bfd0>"
      ]
     },
     "metadata": {
      "needs_background": "light"
     },
     "output_type": "display_data"
    }
   ],
   "source": [
    "plt.bar(df.groupby('target')['duration'].mean().index,\n",
    "        df.groupby('target')['duration'].mean().values\n",
    "       );"
   ]
  },
  {
   "cell_type": "code",
   "execution_count": 12,
   "metadata": {},
   "outputs": [
    {
     "data": {
      "text/html": [
       "<div>\n",
       "<style scoped>\n",
       "    .dataframe tbody tr th:only-of-type {\n",
       "        vertical-align: middle;\n",
       "    }\n",
       "\n",
       "    .dataframe tbody tr th {\n",
       "        vertical-align: top;\n",
       "    }\n",
       "\n",
       "    .dataframe thead th {\n",
       "        text-align: right;\n",
       "    }\n",
       "</style>\n",
       "<table border=\"1\" class=\"dataframe\">\n",
       "  <thead>\n",
       "    <tr style=\"text-align: right;\">\n",
       "      <th></th>\n",
       "      <th>image_vector</th>\n",
       "      <th>voice_vector</th>\n",
       "      <th>duration</th>\n",
       "      <th>target</th>\n",
       "      <th>N_zero</th>\n",
       "    </tr>\n",
       "  </thead>\n",
       "  <tbody>\n",
       "    <tr>\n",
       "      <th>0</th>\n",
       "      <td>[0, 0, 0, 0, 0, 0, 0, 0, 0, 0, 0, 0, 0, 0, 0, ...</td>\n",
       "      <td>[-255.82959, 38.15204, 51.84722, 13.130906, 14...</td>\n",
       "      <td>-1.148272</td>\n",
       "      <td>2</td>\n",
       "      <td>-0.054545</td>\n",
       "    </tr>\n",
       "    <tr>\n",
       "      <th>1</th>\n",
       "      <td>[0, 0, 0, 0, 0, 0, 0, 0, 0, 0, 0, 0, 0, 0, 0, ...</td>\n",
       "      <td>[-409.89935, 127.17834, -21.689606, -17.540297...</td>\n",
       "      <td>-1.108288</td>\n",
       "      <td>4</td>\n",
       "      <td>0.600000</td>\n",
       "    </tr>\n",
       "    <tr>\n",
       "      <th>2</th>\n",
       "      <td>[0, 0, 0, 0, 0, 0, 0, 0, 0, 0, 0, 0, 0, 0, 0, ...</td>\n",
       "      <td>[-431.00018, 39.874836, 21.09296, -8.168608, -...</td>\n",
       "      <td>0.629321</td>\n",
       "      <td>7</td>\n",
       "      <td>0.781818</td>\n",
       "    </tr>\n",
       "    <tr>\n",
       "      <th>3</th>\n",
       "      <td>[0, 0, 0, 0, 0, 0, 0, 0, 0, 0, 0, 0, 0, 0, 0, ...</td>\n",
       "      <td>[-202.18109, 57.301323, 48.47514, -5.4865746, ...</td>\n",
       "      <td>-0.845898</td>\n",
       "      <td>6</td>\n",
       "      <td>-0.145455</td>\n",
       "    </tr>\n",
       "    <tr>\n",
       "      <th>4</th>\n",
       "      <td>[0, 0, 0, 0, 0, 0, 0, 0, 0, 0, 0, 0, 0, 0, 0, ...</td>\n",
       "      <td>[-395.6473, 109.2142, -1.4051617, -15.394623, ...</td>\n",
       "      <td>-0.719284</td>\n",
       "      <td>2</td>\n",
       "      <td>0.036364</td>\n",
       "    </tr>\n",
       "  </tbody>\n",
       "</table>\n",
       "</div>"
      ],
      "text/plain": [
       "                                        image_vector  \\\n",
       "0  [0, 0, 0, 0, 0, 0, 0, 0, 0, 0, 0, 0, 0, 0, 0, ...   \n",
       "1  [0, 0, 0, 0, 0, 0, 0, 0, 0, 0, 0, 0, 0, 0, 0, ...   \n",
       "2  [0, 0, 0, 0, 0, 0, 0, 0, 0, 0, 0, 0, 0, 0, 0, ...   \n",
       "3  [0, 0, 0, 0, 0, 0, 0, 0, 0, 0, 0, 0, 0, 0, 0, ...   \n",
       "4  [0, 0, 0, 0, 0, 0, 0, 0, 0, 0, 0, 0, 0, 0, 0, ...   \n",
       "\n",
       "                                        voice_vector  duration  target  \\\n",
       "0  [-255.82959, 38.15204, 51.84722, 13.130906, 14... -1.148272       2   \n",
       "1  [-409.89935, 127.17834, -21.689606, -17.540297... -1.108288       4   \n",
       "2  [-431.00018, 39.874836, 21.09296, -8.168608, -...  0.629321       7   \n",
       "3  [-202.18109, 57.301323, 48.47514, -5.4865746, ... -0.845898       6   \n",
       "4  [-395.6473, 109.2142, -1.4051617, -15.394623, ... -0.719284       2   \n",
       "\n",
       "     N_zero  \n",
       "0 -0.054545  \n",
       "1  0.600000  \n",
       "2  0.781818  \n",
       "3 -0.145455  \n",
       "4  0.036364  "
      ]
     },
     "execution_count": 12,
     "metadata": {},
     "output_type": "execute_result"
    }
   ],
   "source": [
    "df.head()"
   ]
  },
  {
   "cell_type": "markdown",
   "metadata": {},
   "source": [
    "### ещё один признак?"
   ]
  },
  {
   "cell_type": "code",
   "execution_count": 13,
   "metadata": {},
   "outputs": [],
   "source": [
    "df['avg_mel'] = df['voice_vector'].apply(lambda x: x.mean() )"
   ]
  },
  {
   "cell_type": "code",
   "execution_count": null,
   "metadata": {},
   "outputs": [],
   "source": []
  },
  {
   "cell_type": "code",
   "execution_count": 37,
   "metadata": {},
   "outputs": [],
   "source": [
    "train_data, test_data = train_test_split(\n",
    "    df, test_size=0.2, random_state=57\n",
    ")"
   ]
  },
  {
   "cell_type": "code",
   "execution_count": 38,
   "metadata": {},
   "outputs": [],
   "source": [
    "X_train = np.hstack((\n",
    "    np.vstack(train_data[\"voice_vector\"]),\n",
    "    np.vstack(train_data[\"image_vector\"]),\n",
    "    np.vstack(train_data['N_zero']),\n",
    "    np.vstack(train_data['duration'])\n",
    "))\n",
    "y_train = train_data[\"target\"]\n",
    "\n",
    "X_test = np.hstack((\n",
    "    np.vstack(test_data[\"voice_vector\"]),\n",
    "    np.vstack(test_data[\"image_vector\"]),\n",
    "    np.vstack(test_data['N_zero']),\n",
    "    np.vstack(test_data['duration'])\n",
    "))\n",
    "y_test = test_data[\"target\"]"
   ]
  },
  {
   "cell_type": "code",
   "execution_count": 16,
   "metadata": {},
   "outputs": [],
   "source": [
    "#для обучения на полном датасете\n",
    "# X_train = np.hstack((\n",
    "#     np.vstack(df[\"voice_vector\"]),\n",
    "#     np.vstack(df[\"image_vector\"]),\n",
    "#     np.vstack(df['N_zero']),\n",
    "#     np.vstack(df['duration'])\n",
    "# ))\n",
    "# y_train = df[\"target\"]"
   ]
  },
  {
   "cell_type": "code",
   "execution_count": 42,
   "metadata": {},
   "outputs": [
    {
     "data": {
      "text/plain": [
       "1.0"
      ]
     },
     "execution_count": 42,
     "metadata": {},
     "output_type": "execute_result"
    }
   ],
   "source": [
    "clf = RandomForestClassifier(n_estimators=200, n_jobs=4).fit(X_train, y_train)\n",
    "clf.score(X_train, y_train)"
   ]
  },
  {
   "cell_type": "code",
   "execution_count": 43,
   "metadata": {},
   "outputs": [
    {
     "data": {
      "text/plain": [
       "0.9533333333333334"
      ]
     },
     "execution_count": 43,
     "metadata": {},
     "output_type": "execute_result"
    }
   ],
   "source": [
    "clf.score(X_test, y_test)"
   ]
  },
  {
   "cell_type": "markdown",
   "metadata": {},
   "source": [
    "# Проверим различную степень сжатия вектора картинки"
   ]
  },
  {
   "cell_type": "code",
   "execution_count": 44,
   "metadata": {},
   "outputs": [],
   "source": [
    "from sklearn.decomposition import PCA\n",
    "img_vecs =  np.vstack(df[\"image_vector\"])\n",
    "voice_vecs = np.vstack(df[\"voice_vector\"]) #дает плохие результаты не сжимаем"
   ]
  },
  {
   "cell_type": "code",
   "execution_count": 45,
   "metadata": {},
   "outputs": [
    {
     "name": "stdout",
     "output_type": "stream",
     "text": [
      "5  7  10  12  15  20  30  60  100  200  400  500  "
     ]
    }
   ],
   "source": [
    "out = []\n",
    "num_of_comp = [5, 7, 10, 12, 15, 20, 30, 60, 100, 200, 400, 500]\n",
    "for n in num_of_comp:\n",
    "    tmp = 0\n",
    "    pca_image = PCA(n_components=n).fit(img_vecs)\n",
    "    X_train = np.hstack((\n",
    "        np.vstack(train_data[\"voice_vector\"]),\n",
    "        pca_image.transform(np.vstack(train_data[\"image_vector\"])),\n",
    "        np.vstack(train_data['N_zero']),\n",
    "        np.vstack(train_data['duration'])\n",
    "    ))\n",
    "    y_train = train_data[\"target\"]\n",
    "    \n",
    "    X_test = np.hstack((\n",
    "        np.vstack(test_data[\"voice_vector\"]),\n",
    "        pca_image.transform(np.vstack(test_data[\"image_vector\"])),\n",
    "        np.vstack(test_data['N_zero']),\n",
    "        np.vstack(test_data['duration'])\n",
    "    ))\n",
    "    y_test = test_data[\"target\"]\n",
    "    \n",
    "    for i in range(5):\n",
    "        \n",
    "        clf = RandomForestClassifier(n_estimators=200, n_jobs=4).fit(X_train, y_train)\n",
    "        tmp += clf.score(X_test, y_test)\n",
    "        \n",
    "    out.append(tmp/5.0)\n",
    "    print(n, end='  ')"
   ]
  },
  {
   "cell_type": "code",
   "execution_count": 46,
   "metadata": {},
   "outputs": [
    {
     "data": {
      "image/png": "[encoded data removed]",
      "text/plain": [
       "<matplotlib.figure.Figure at 0x7f19cdd47898>"
      ]
     },
     "metadata": {
      "needs_background": "light"
     },
     "output_type": "display_data"
    }
   ],
   "source": [
    "plt.plot(num_of_comp, out)\n",
    "plt.xlabel('n_PCA')\n",
    "plt.ylabel('score');"
   ]
  },
  {
   "cell_type": "markdown",
   "metadata": {},
   "source": [
    "## Покрутим кол-во дереввьев"
   ]
  },
  {
   "cell_type": "code",
   "execution_count": 71,
   "metadata": {},
   "outputs": [],
   "source": [
    "    pca_image = PCA(n_components=100).fit(img_vecs)\n",
    "    X_train = np.hstack((\n",
    "        np.vstack(train_data[\"voice_vector\"]),\n",
    "        pca_image.transform(np.vstack(train_data[\"image_vector\"])),\n",
    "        np.vstack(train_data['N_zero']),\n",
    "        np.vstack(train_data['duration'])\n",
    "    ))\n",
    "    y_train = train_data[\"target\"]\n",
    "    \n",
    "    X_test = np.hstack((\n",
    "        np.vstack(test_data[\"voice_vector\"]),\n",
    "        pca_image.transform(np.vstack(test_data[\"image_vector\"])),\n",
    "        np.vstack(test_data['N_zero']),\n",
    "        np.vstack(test_data['duration'])\n",
    "    ))\n",
    "    y_test = test_data[\"target\"]"
   ]
  },
  {
   "cell_type": "code",
   "execution_count": 72,
   "metadata": {},
   "outputs": [
    {
     "name": "stdout",
     "output_type": "stream",
     "text": [
      "120  220  250  280  300  320  380  "
     ]
    }
   ],
   "source": [
    "out = []\n",
    "num_of_estimators = [120, 220, 250, 280, 300, 320, 380]\n",
    "\n",
    "for n in num_of_estimators:\n",
    "    tmp = 0\n",
    "    for i in range(5):\n",
    "        clf = RandomForestClassifier(n_estimators=n, n_jobs=4).fit(X_train, y_train)\n",
    "        tmp += clf.score(X_test, y_test)\n",
    "        \n",
    "    out.append(tmp/5.0)\n",
    "    print(n, end='  ')"
   ]
  },
  {
   "cell_type": "code",
   "execution_count": 73,
   "metadata": {
    "scrolled": true
   },
   "outputs": [
    {
     "data": {
      "image/png": "[encoded data removed]",
      "text/plain": [
       "<matplotlib.figure.Figure at 0x7f19cde61f60>"
      ]
     },
     "metadata": {
      "needs_background": "light"
     },
     "output_type": "display_data"
    }
   ],
   "source": [
    "plt.plot(num_of_estimators, out)\n",
    "plt.xlabel('n_estimators')\n",
    "plt.ylabel('score');"
   ]
  },
  {
   "cell_type": "code",
   "execution_count": 74,
   "metadata": {},
   "outputs": [],
   "source": [
    "clf = RandomForestClassifier(n_estimators=320, n_jobs=4).fit(X_train, y_train)"
   ]
  },
  {
   "cell_type": "code",
   "execution_count": 75,
   "metadata": {},
   "outputs": [
    {
     "data": {
      "text/plain": [
       "1.0"
      ]
     },
     "execution_count": 75,
     "metadata": {},
     "output_type": "execute_result"
    }
   ],
   "source": [
    "clf.score(X_train, y_train)"
   ]
  },
  {
   "cell_type": "code",
   "execution_count": 76,
   "metadata": {},
   "outputs": [
    {
     "data": {
      "text/plain": [
       "0.9766666666666667"
      ]
     },
     "execution_count": 76,
     "metadata": {},
     "output_type": "execute_result"
    }
   ],
   "source": [
    "clf.score(X_test, y_test)"
   ]
  },
  {
   "cell_type": "markdown",
   "metadata": {},
   "source": [
    "## Посмотрим в целом на предсказания по классам цифр"
   ]
  },
  {
   "cell_type": "code",
   "execution_count": 77,
   "metadata": {},
   "outputs": [
    {
     "data": {
      "image/png": "[encoded data removed]",
      "text/plain": [
       "<matplotlib.figure.Figure at 0x7f19b4fbc160>"
      ]
     },
     "metadata": {
      "needs_background": "light"
     },
     "output_type": "display_data"
    }
   ],
   "source": [
    "from sklearn.metrics import confusion_matrix\n",
    "conf_matrix = confusion_matrix(y_test, clf.predict(X_test))\n",
    "\n",
    "plt.figure(figsize=(8,8))\n",
    "plt.matshow(conf_matrix, cmap=\"plasma\", fignum=1)\n",
    "plt.colorbar();"
   ]
  },
  {
   "cell_type": "markdown",
   "metadata": {},
   "source": [
    "## Попробуем логистическую регрессию"
   ]
  },
  {
   "cell_type": "code",
   "execution_count": 80,
   "metadata": {},
   "outputs": [
    {
     "name": "stderr",
     "output_type": "stream",
     "text": [
      "/usr/local/lib/python3.6/dist-packages/sklearn/linear_model/logistic.py:947: ConvergenceWarning: lbfgs failed to converge. Increase the number of iterations.\n",
      "  \"of iterations.\", ConvergenceWarning)\n"
     ]
    },
    {
     "data": {
      "text/plain": [
       "LogisticRegression(C=30, class_weight=None, dual=False, fit_intercept=True,\n",
       "                   intercept_scaling=1, l1_ratio=None, max_iter=100,\n",
       "                   multi_class='multinomial', n_jobs=None, penalty='l2',\n",
       "                   random_state=None, solver='lbfgs', tol=0.0001, verbose=0,\n",
       "                   warm_start=False)"
      ]
     },
     "execution_count": 80,
     "metadata": {},
     "output_type": "execute_result"
    }
   ],
   "source": [
    "from sklearn.linear_model import LogisticRegression\n",
    "ModelLR = LogisticRegression(C=30, solver='lbfgs', multi_class='multinomial')\n",
    "ModelLR.fit(X_train, y_train)"
   ]
  },
  {
   "cell_type": "code",
   "execution_count": 81,
   "metadata": {},
   "outputs": [
    {
     "data": {
      "text/plain": [
       "0.86"
      ]
     },
     "execution_count": 81,
     "metadata": {},
     "output_type": "execute_result"
    }
   ],
   "source": [
    "ModelLR.score(X_test,y_test)"
   ]
  },
  {
   "cell_type": "markdown",
   "metadata": {},
   "source": [
    "# Предсказания"
   ]
  },
  {
   "cell_type": "code",
   "execution_count": 82,
   "metadata": {},
   "outputs": [],
   "source": [
    "df_pred = extract_image_features(IMAGE_TEST_PATH).merge(\n",
    "                    extract_voice_features(VOICE_TEST_PATH), on='index')"
   ]
  },
  {
   "cell_type": "code",
   "execution_count": 83,
   "metadata": {},
   "outputs": [],
   "source": [
    "df_pred['N_zero'] = df_pred['image_vector'].apply(lambda x: (x<1.0).astype(int).sum() )\n",
    "df_pred['N_zero'] = RobustScaler().fit_transform(\n",
    "                        df_pred.N_zero.values.reshape(-1,1)\n",
    "                                            )\n",
    "df_pred['duration'] = RobustScaler().fit_transform(\n",
    "                        df_pred.duration.values.reshape(-1,1)\n",
    "                                            )"
   ]
  },
  {
   "cell_type": "code",
   "execution_count": 84,
   "metadata": {},
   "outputs": [],
   "source": [
    "X = np.hstack((\n",
    "        np.vstack(df_pred[\"voice_vector\"]),\n",
    "        pca_image.transform(np.vstack(df_pred[\"image_vector\"])),\n",
    "        np.vstack(df_pred['N_zero']),\n",
    "        np.vstack(df_pred['duration'])\n",
    "))"
   ]
  },
  {
   "cell_type": "code",
   "execution_count": 85,
   "metadata": {},
   "outputs": [],
   "source": [
    "df_pred['target'] = clf.predict(X)"
   ]
  },
  {
   "cell_type": "code",
   "execution_count": 86,
   "metadata": {},
   "outputs": [
    {
     "name": "stdout",
     "output_type": "stream",
     "text": [
      "<class 'pandas.core.frame.DataFrame'>\n",
      "Int64Index: 500 entries, 0 to 499\n",
      "Data columns (total 6 columns):\n",
      "index           500 non-null object\n",
      "image_vector    500 non-null object\n",
      "voice_vector    500 non-null object\n",
      "duration        500 non-null float64\n",
      "N_zero          500 non-null float64\n",
      "target          500 non-null int64\n",
      "dtypes: float64(2), int64(1), object(3)\n",
      "memory usage: 27.3+ KB\n"
     ]
    }
   ],
   "source": [
    "df_pred.info()"
   ]
  },
  {
   "cell_type": "code",
   "execution_count": 87,
   "metadata": {},
   "outputs": [
    {
     "name": "stdout",
     "output_type": "stream",
     "text": [
      "index,target\r\n",
      "144,2\r\n",
      "402,3\r\n",
      "102,3\r\n",
      "121,1\r\n",
      "397,3\r\n",
      "27,9\r\n",
      "194,6\r\n",
      "381,3\r\n",
      "320,2\r\n"
     ]
    }
   ],
   "source": [
    "df_pred[[\"index\", \"target\"]].to_csv(\"pred/y_pred_08.csv\", index=False)\n",
    "\n",
    "!cat pred/y_pred_08.csv | head"
   ]
  }
 ],
 "metadata": {
  "kernelspec": {
   "display_name": "Python 3",
   "language": "python",
   "name": "python3"
  },
  "language_info": {
   "codemirror_mode": {
    "name": "ipython",
    "version": 3
   },
   "file_extension": ".py",
   "mimetype": "text/x-python",
   "name": "python",
   "nbconvert_exporter": "python",
   "pygments_lexer": "ipython3",
   "version": "3.6.8"
  }
 },
 "nbformat": 4,
 "nbformat_minor": 2
}
